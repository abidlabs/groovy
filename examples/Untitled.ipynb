{
 "cells": [
  {
   "cell_type": "code",
   "execution_count": 1,
   "id": "c4d906d7-f1a4-4f07-b2b8-b63ee4424384",
   "metadata": {},
   "outputs": [
    {
     "name": "stderr",
     "output_type": "stream",
     "text": [
      "/Users/abidlabs/dev/gradio-repos/gradio/gradio/utils.py:1017: UserWarning: Expected 1 arguments for function <function Flow.__init__.<locals>.run_flow at 0x129a86a20>, received 0.\n",
      "  warnings.warn(\n",
      "/Users/abidlabs/dev/gradio-repos/gradio/gradio/utils.py:1021: UserWarning: Expected at least 1 arguments for function <function Flow.__init__.<locals>.run_flow at 0x129a86a20>, received 0.\n",
      "  warnings.warn(\n"
     ]
    },
    {
     "name": "stdout",
     "output_type": "stream",
     "text": [
      "* Running on local URL:  http://127.0.0.1:7860\n",
      "\n",
      "To create a public link, set `share=True` in `launch()`.\n"
     ]
    },
    {
     "data": {
      "text/plain": [
       "'http://127.0.0.1:7860/'"
      ]
     },
     "execution_count": 1,
     "metadata": {},
     "output_type": "execute_result"
    }
   ],
   "source": [
    "import groovy as gv\n",
    "import gradio as gr\n",
    "\n",
    "gv.Flow(\"Navigate to {}\", [gr.Textbox()]).launch()"
   ]
  },
  {
   "cell_type": "code",
   "execution_count": null,
   "id": "bb6aae5e-a4c0-4e73-b24a-34c92e948745",
   "metadata": {},
   "outputs": [],
   "source": []
  }
 ],
 "metadata": {
  "kernelspec": {
   "display_name": "Python 3.12",
   "language": "python",
   "name": "python3"
  },
  "language_info": {
   "codemirror_mode": {
    "name": "ipython",
    "version": 3
   },
   "file_extension": ".py",
   "mimetype": "text/x-python",
   "name": "python",
   "nbconvert_exporter": "python",
   "pygments_lexer": "ipython3",
   "version": "3.12.2"
  }
 },
 "nbformat": 4,
 "nbformat_minor": 5
}
